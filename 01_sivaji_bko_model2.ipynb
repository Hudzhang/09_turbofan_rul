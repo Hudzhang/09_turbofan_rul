{
 "cells": [
  {
   "cell_type": "code",
   "execution_count": 0,
   "metadata": {
    "colab": {},
    "colab_type": "code",
    "id": "-r0yNnQKscTI"
   },
   "outputs": [],
   "source": [
    "# importing frameworks/packages that are required for the model to run\n",
    "\n",
    "import pandas as pd\n",
    "import numpy as np\n",
    "import matplotlib.pyplot as plt\n",
    "from sklearn.preprocessing import minmax_scale\n",
    "import torch\n",
    "from torch import nn, optim\n",
    "import torch.nn.functional as F\n",
    "from torch.autograd import Variable\n",
    "from sklearn.model_selection import train_test_split\n"
   ]
  },
  {
   "cell_type": "markdown",
   "metadata": {
    "colab_type": "text",
    "id": "DLMKoipgyM-V"
   },
   "source": [
    "# **Data Pre-processing**"
   ]
  },
  {
   "cell_type": "code",
   "execution_count": 0,
   "metadata": {
    "colab": {},
    "colab_type": "code",
    "id": "WmiuDa5AvLKR"
   },
   "outputs": [],
   "source": [
    "# Reading the train, test and RUL files (FD001 dataset)\n",
    "\n",
    "df_train = pd.read_csv(\"https://raw.githubusercontent.com/sivaji1233/09_turbofan_rul/master/data/train_FD001.txt\", sep = ' ', header = None)\n",
    "df_test = pd.read_csv(\"https://raw.githubusercontent.com/sivaji1233/09_turbofan_rul/master/data/test_FD001.txt\", sep = ' ', header = None)\n",
    "df_RUL = pd.read_csv(\"https://raw.githubusercontent.com/sivaji1233/09_turbofan_rul/master/data/RUL_FD001.txt\", header = None)\n"
   ]
  },
  {
   "cell_type": "code",
   "execution_count": 0,
   "metadata": {
    "colab": {},
    "colab_type": "code",
    "id": "uzaNL_aevkNz"
   },
   "outputs": [],
   "source": [
    "# Cleaning the data (2 extra columns were added due to white space, deleting those and adding the column names)\n",
    "# for easy and clear understanding I'll work on set1 out of 4 and report the results for other sets in the report)\n",
    "\n",
    "col_list = ['unit', 'time', 'os_1', 'os_2', 'os_3', 'sm_1', 'sm_2', 'sm_3', 'sm_4', 'sm_5', 'sm_6', 'sm_7', 'sm_8', 'sm_9', 'sm_10', 'sm_11', 'sm_12', 'sm_13', 'sm_14', 'sm_15', 'sm_16', 'sm_17', 'sm_18', 'sm_19', 'sm_20', 'sm_21']\n",
    "\n",
    "df_train = df_train[list(range(26))]\n",
    "df_train.columns = col_list\n",
    "\n",
    "df_test = df_test[list(range(26))]\n",
    "df_test.columns = col_list"
   ]
  },
  {
   "cell_type": "code",
   "execution_count": 69,
   "metadata": {
    "colab": {
     "base_uri": "https://localhost:8080/",
     "height": 214
    },
    "colab_type": "code",
    "id": "8dsCm50MKkMy",
    "outputId": "31119d90-e698-4c88-c176-bd261e7091b1"
   },
   "outputs": [
    {
     "data": {
      "text/html": [
       "<div>\n",
       "<style scoped>\n",
       "    .dataframe tbody tr th:only-of-type {\n",
       "        vertical-align: middle;\n",
       "    }\n",
       "\n",
       "    .dataframe tbody tr th {\n",
       "        vertical-align: top;\n",
       "    }\n",
       "\n",
       "    .dataframe thead th {\n",
       "        text-align: right;\n",
       "    }\n",
       "</style>\n",
       "<table border=\"1\" class=\"dataframe\">\n",
       "  <thead>\n",
       "    <tr style=\"text-align: right;\">\n",
       "      <th></th>\n",
       "      <th>unit</th>\n",
       "      <th>time</th>\n",
       "      <th>os_1</th>\n",
       "      <th>os_2</th>\n",
       "      <th>os_3</th>\n",
       "      <th>sm_1</th>\n",
       "      <th>sm_2</th>\n",
       "      <th>sm_3</th>\n",
       "      <th>sm_4</th>\n",
       "      <th>sm_5</th>\n",
       "      <th>sm_6</th>\n",
       "      <th>sm_7</th>\n",
       "      <th>sm_8</th>\n",
       "      <th>sm_9</th>\n",
       "      <th>sm_10</th>\n",
       "      <th>sm_11</th>\n",
       "      <th>sm_12</th>\n",
       "      <th>sm_13</th>\n",
       "      <th>sm_14</th>\n",
       "      <th>sm_15</th>\n",
       "      <th>sm_16</th>\n",
       "      <th>sm_17</th>\n",
       "      <th>sm_18</th>\n",
       "      <th>sm_19</th>\n",
       "      <th>sm_20</th>\n",
       "      <th>sm_21</th>\n",
       "    </tr>\n",
       "  </thead>\n",
       "  <tbody>\n",
       "    <tr>\n",
       "      <th>0</th>\n",
       "      <td>1</td>\n",
       "      <td>1</td>\n",
       "      <td>-0.0007</td>\n",
       "      <td>-0.0004</td>\n",
       "      <td>100.0</td>\n",
       "      <td>518.67</td>\n",
       "      <td>641.82</td>\n",
       "      <td>1589.70</td>\n",
       "      <td>1400.60</td>\n",
       "      <td>14.62</td>\n",
       "      <td>21.61</td>\n",
       "      <td>554.36</td>\n",
       "      <td>2388.06</td>\n",
       "      <td>9046.19</td>\n",
       "      <td>1.3</td>\n",
       "      <td>47.47</td>\n",
       "      <td>521.66</td>\n",
       "      <td>2388.02</td>\n",
       "      <td>8138.62</td>\n",
       "      <td>8.4195</td>\n",
       "      <td>0.03</td>\n",
       "      <td>392</td>\n",
       "      <td>2388</td>\n",
       "      <td>100.0</td>\n",
       "      <td>39.06</td>\n",
       "      <td>23.4190</td>\n",
       "    </tr>\n",
       "    <tr>\n",
       "      <th>1</th>\n",
       "      <td>1</td>\n",
       "      <td>2</td>\n",
       "      <td>0.0019</td>\n",
       "      <td>-0.0003</td>\n",
       "      <td>100.0</td>\n",
       "      <td>518.67</td>\n",
       "      <td>642.15</td>\n",
       "      <td>1591.82</td>\n",
       "      <td>1403.14</td>\n",
       "      <td>14.62</td>\n",
       "      <td>21.61</td>\n",
       "      <td>553.75</td>\n",
       "      <td>2388.04</td>\n",
       "      <td>9044.07</td>\n",
       "      <td>1.3</td>\n",
       "      <td>47.49</td>\n",
       "      <td>522.28</td>\n",
       "      <td>2388.07</td>\n",
       "      <td>8131.49</td>\n",
       "      <td>8.4318</td>\n",
       "      <td>0.03</td>\n",
       "      <td>392</td>\n",
       "      <td>2388</td>\n",
       "      <td>100.0</td>\n",
       "      <td>39.00</td>\n",
       "      <td>23.4236</td>\n",
       "    </tr>\n",
       "    <tr>\n",
       "      <th>2</th>\n",
       "      <td>1</td>\n",
       "      <td>3</td>\n",
       "      <td>-0.0043</td>\n",
       "      <td>0.0003</td>\n",
       "      <td>100.0</td>\n",
       "      <td>518.67</td>\n",
       "      <td>642.35</td>\n",
       "      <td>1587.99</td>\n",
       "      <td>1404.20</td>\n",
       "      <td>14.62</td>\n",
       "      <td>21.61</td>\n",
       "      <td>554.26</td>\n",
       "      <td>2388.08</td>\n",
       "      <td>9052.94</td>\n",
       "      <td>1.3</td>\n",
       "      <td>47.27</td>\n",
       "      <td>522.42</td>\n",
       "      <td>2388.03</td>\n",
       "      <td>8133.23</td>\n",
       "      <td>8.4178</td>\n",
       "      <td>0.03</td>\n",
       "      <td>390</td>\n",
       "      <td>2388</td>\n",
       "      <td>100.0</td>\n",
       "      <td>38.95</td>\n",
       "      <td>23.3442</td>\n",
       "    </tr>\n",
       "    <tr>\n",
       "      <th>3</th>\n",
       "      <td>1</td>\n",
       "      <td>4</td>\n",
       "      <td>0.0007</td>\n",
       "      <td>0.0000</td>\n",
       "      <td>100.0</td>\n",
       "      <td>518.67</td>\n",
       "      <td>642.35</td>\n",
       "      <td>1582.79</td>\n",
       "      <td>1401.87</td>\n",
       "      <td>14.62</td>\n",
       "      <td>21.61</td>\n",
       "      <td>554.45</td>\n",
       "      <td>2388.11</td>\n",
       "      <td>9049.48</td>\n",
       "      <td>1.3</td>\n",
       "      <td>47.13</td>\n",
       "      <td>522.86</td>\n",
       "      <td>2388.08</td>\n",
       "      <td>8133.83</td>\n",
       "      <td>8.3682</td>\n",
       "      <td>0.03</td>\n",
       "      <td>392</td>\n",
       "      <td>2388</td>\n",
       "      <td>100.0</td>\n",
       "      <td>38.88</td>\n",
       "      <td>23.3739</td>\n",
       "    </tr>\n",
       "    <tr>\n",
       "      <th>4</th>\n",
       "      <td>1</td>\n",
       "      <td>5</td>\n",
       "      <td>-0.0019</td>\n",
       "      <td>-0.0002</td>\n",
       "      <td>100.0</td>\n",
       "      <td>518.67</td>\n",
       "      <td>642.37</td>\n",
       "      <td>1582.85</td>\n",
       "      <td>1406.22</td>\n",
       "      <td>14.62</td>\n",
       "      <td>21.61</td>\n",
       "      <td>554.00</td>\n",
       "      <td>2388.06</td>\n",
       "      <td>9055.15</td>\n",
       "      <td>1.3</td>\n",
       "      <td>47.28</td>\n",
       "      <td>522.19</td>\n",
       "      <td>2388.04</td>\n",
       "      <td>8133.80</td>\n",
       "      <td>8.4294</td>\n",
       "      <td>0.03</td>\n",
       "      <td>393</td>\n",
       "      <td>2388</td>\n",
       "      <td>100.0</td>\n",
       "      <td>38.90</td>\n",
       "      <td>23.4044</td>\n",
       "    </tr>\n",
       "  </tbody>\n",
       "</table>\n",
       "</div>"
      ],
      "text/plain": [
       "   unit  time    os_1    os_2   os_3  ...  sm_17  sm_18  sm_19  sm_20    sm_21\n",
       "0     1     1 -0.0007 -0.0004  100.0  ...    392   2388  100.0  39.06  23.4190\n",
       "1     1     2  0.0019 -0.0003  100.0  ...    392   2388  100.0  39.00  23.4236\n",
       "2     1     3 -0.0043  0.0003  100.0  ...    390   2388  100.0  38.95  23.3442\n",
       "3     1     4  0.0007  0.0000  100.0  ...    392   2388  100.0  38.88  23.3739\n",
       "4     1     5 -0.0019 -0.0002  100.0  ...    393   2388  100.0  38.90  23.4044\n",
       "\n",
       "[5 rows x 26 columns]"
      ]
     },
     "execution_count": 69,
     "metadata": {
      "tags": []
     },
     "output_type": "execute_result"
    }
   ],
   "source": [
    "# Reading first 5 rows of the train dataset\n",
    "\n",
    "df_train.head()"
   ]
  },
  {
   "cell_type": "code",
   "execution_count": 70,
   "metadata": {
    "colab": {
     "base_uri": "https://localhost:8080/",
     "height": 568
    },
    "colab_type": "code",
    "id": "80SJcxdXC24s",
    "outputId": "fe6ea045-895a-46c3-e86a-efc2bf5ee04c"
   },
   "outputs": [
    {
     "name": "stdout",
     "output_type": "stream",
     "text": [
      "<class 'pandas.core.frame.DataFrame'>\n",
      "RangeIndex: 20631 entries, 0 to 20630\n",
      "Data columns (total 26 columns):\n",
      "unit     20631 non-null int64\n",
      "time     20631 non-null int64\n",
      "os_1     20631 non-null float64\n",
      "os_2     20631 non-null float64\n",
      "os_3     20631 non-null float64\n",
      "sm_1     20631 non-null float64\n",
      "sm_2     20631 non-null float64\n",
      "sm_3     20631 non-null float64\n",
      "sm_4     20631 non-null float64\n",
      "sm_5     20631 non-null float64\n",
      "sm_6     20631 non-null float64\n",
      "sm_7     20631 non-null float64\n",
      "sm_8     20631 non-null float64\n",
      "sm_9     20631 non-null float64\n",
      "sm_10    20631 non-null float64\n",
      "sm_11    20631 non-null float64\n",
      "sm_12    20631 non-null float64\n",
      "sm_13    20631 non-null float64\n",
      "sm_14    20631 non-null float64\n",
      "sm_15    20631 non-null float64\n",
      "sm_16    20631 non-null float64\n",
      "sm_17    20631 non-null int64\n",
      "sm_18    20631 non-null int64\n",
      "sm_19    20631 non-null float64\n",
      "sm_20    20631 non-null float64\n",
      "sm_21    20631 non-null float64\n",
      "dtypes: float64(22), int64(4)\n",
      "memory usage: 4.1 MB\n"
     ]
    }
   ],
   "source": [
    "# Making sure no missing values are there in the data\n",
    "\n",
    "df_train.info(verbose=True)"
   ]
  },
  {
   "cell_type": "code",
   "execution_count": 71,
   "metadata": {
    "colab": {
     "base_uri": "https://localhost:8080/",
     "height": 214
    },
    "colab_type": "code",
    "id": "CTXscRLXkoDX",
    "outputId": "ff943df2-6534-4d8a-bb4b-809377e1d559"
   },
   "outputs": [
    {
     "data": {
      "text/html": [
       "<div>\n",
       "<style scoped>\n",
       "    .dataframe tbody tr th:only-of-type {\n",
       "        vertical-align: middle;\n",
       "    }\n",
       "\n",
       "    .dataframe tbody tr th {\n",
       "        vertical-align: top;\n",
       "    }\n",
       "\n",
       "    .dataframe thead th {\n",
       "        text-align: right;\n",
       "    }\n",
       "</style>\n",
       "<table border=\"1\" class=\"dataframe\">\n",
       "  <thead>\n",
       "    <tr style=\"text-align: right;\">\n",
       "      <th></th>\n",
       "      <th>unit</th>\n",
       "      <th>time</th>\n",
       "      <th>os_1</th>\n",
       "      <th>os_2</th>\n",
       "      <th>sm_2</th>\n",
       "      <th>sm_3</th>\n",
       "      <th>sm_4</th>\n",
       "      <th>sm_6</th>\n",
       "      <th>sm_7</th>\n",
       "      <th>sm_8</th>\n",
       "      <th>sm_9</th>\n",
       "      <th>sm_11</th>\n",
       "      <th>sm_12</th>\n",
       "      <th>sm_13</th>\n",
       "      <th>sm_14</th>\n",
       "      <th>sm_15</th>\n",
       "      <th>sm_17</th>\n",
       "      <th>sm_20</th>\n",
       "      <th>sm_21</th>\n",
       "      <th>cycle</th>\n",
       "    </tr>\n",
       "  </thead>\n",
       "  <tbody>\n",
       "    <tr>\n",
       "      <th>0</th>\n",
       "      <td>1</td>\n",
       "      <td>1</td>\n",
       "      <td>-0.0007</td>\n",
       "      <td>-0.0004</td>\n",
       "      <td>641.82</td>\n",
       "      <td>1589.70</td>\n",
       "      <td>1400.60</td>\n",
       "      <td>21.61</td>\n",
       "      <td>554.36</td>\n",
       "      <td>2388.06</td>\n",
       "      <td>9046.19</td>\n",
       "      <td>47.47</td>\n",
       "      <td>521.66</td>\n",
       "      <td>2388.02</td>\n",
       "      <td>8138.62</td>\n",
       "      <td>8.4195</td>\n",
       "      <td>392</td>\n",
       "      <td>39.06</td>\n",
       "      <td>23.4190</td>\n",
       "      <td>1</td>\n",
       "    </tr>\n",
       "    <tr>\n",
       "      <th>1</th>\n",
       "      <td>1</td>\n",
       "      <td>2</td>\n",
       "      <td>0.0019</td>\n",
       "      <td>-0.0003</td>\n",
       "      <td>642.15</td>\n",
       "      <td>1591.82</td>\n",
       "      <td>1403.14</td>\n",
       "      <td>21.61</td>\n",
       "      <td>553.75</td>\n",
       "      <td>2388.04</td>\n",
       "      <td>9044.07</td>\n",
       "      <td>47.49</td>\n",
       "      <td>522.28</td>\n",
       "      <td>2388.07</td>\n",
       "      <td>8131.49</td>\n",
       "      <td>8.4318</td>\n",
       "      <td>392</td>\n",
       "      <td>39.00</td>\n",
       "      <td>23.4236</td>\n",
       "      <td>2</td>\n",
       "    </tr>\n",
       "    <tr>\n",
       "      <th>2</th>\n",
       "      <td>1</td>\n",
       "      <td>3</td>\n",
       "      <td>-0.0043</td>\n",
       "      <td>0.0003</td>\n",
       "      <td>642.35</td>\n",
       "      <td>1587.99</td>\n",
       "      <td>1404.20</td>\n",
       "      <td>21.61</td>\n",
       "      <td>554.26</td>\n",
       "      <td>2388.08</td>\n",
       "      <td>9052.94</td>\n",
       "      <td>47.27</td>\n",
       "      <td>522.42</td>\n",
       "      <td>2388.03</td>\n",
       "      <td>8133.23</td>\n",
       "      <td>8.4178</td>\n",
       "      <td>390</td>\n",
       "      <td>38.95</td>\n",
       "      <td>23.3442</td>\n",
       "      <td>3</td>\n",
       "    </tr>\n",
       "    <tr>\n",
       "      <th>3</th>\n",
       "      <td>1</td>\n",
       "      <td>4</td>\n",
       "      <td>0.0007</td>\n",
       "      <td>0.0000</td>\n",
       "      <td>642.35</td>\n",
       "      <td>1582.79</td>\n",
       "      <td>1401.87</td>\n",
       "      <td>21.61</td>\n",
       "      <td>554.45</td>\n",
       "      <td>2388.11</td>\n",
       "      <td>9049.48</td>\n",
       "      <td>47.13</td>\n",
       "      <td>522.86</td>\n",
       "      <td>2388.08</td>\n",
       "      <td>8133.83</td>\n",
       "      <td>8.3682</td>\n",
       "      <td>392</td>\n",
       "      <td>38.88</td>\n",
       "      <td>23.3739</td>\n",
       "      <td>4</td>\n",
       "    </tr>\n",
       "    <tr>\n",
       "      <th>4</th>\n",
       "      <td>1</td>\n",
       "      <td>5</td>\n",
       "      <td>-0.0019</td>\n",
       "      <td>-0.0002</td>\n",
       "      <td>642.37</td>\n",
       "      <td>1582.85</td>\n",
       "      <td>1406.22</td>\n",
       "      <td>21.61</td>\n",
       "      <td>554.00</td>\n",
       "      <td>2388.06</td>\n",
       "      <td>9055.15</td>\n",
       "      <td>47.28</td>\n",
       "      <td>522.19</td>\n",
       "      <td>2388.04</td>\n",
       "      <td>8133.80</td>\n",
       "      <td>8.4294</td>\n",
       "      <td>393</td>\n",
       "      <td>38.90</td>\n",
       "      <td>23.4044</td>\n",
       "      <td>5</td>\n",
       "    </tr>\n",
       "  </tbody>\n",
       "</table>\n",
       "</div>"
      ],
      "text/plain": [
       "   unit  time    os_1    os_2    sm_2  ...   sm_15  sm_17  sm_20    sm_21  cycle\n",
       "0     1     1 -0.0007 -0.0004  641.82  ...  8.4195    392  39.06  23.4190      1\n",
       "1     1     2  0.0019 -0.0003  642.15  ...  8.4318    392  39.00  23.4236      2\n",
       "2     1     3 -0.0043  0.0003  642.35  ...  8.4178    390  38.95  23.3442      3\n",
       "3     1     4  0.0007  0.0000  642.35  ...  8.3682    392  38.88  23.3739      4\n",
       "4     1     5 -0.0019 -0.0002  642.37  ...  8.4294    393  38.90  23.4044      5\n",
       "\n",
       "[5 rows x 20 columns]"
      ]
     },
     "execution_count": 71,
     "metadata": {
      "tags": []
     },
     "output_type": "execute_result"
    }
   ],
   "source": [
    "# From the above figure it is clearly evident that columns ['os3', 'sm1', 'sm5', 'sm10', 'sm16', 'sm18', 'sm19'] are not contributing to significant change from healthy life to failure life, hence omitting the values for further model development\n",
    "\n",
    "new_col_list = ['unit', 'time', 'os_1', 'os_2', 'sm_2', 'sm_3', 'sm_4', 'sm_6', 'sm_7', 'sm_8', 'sm_9', 'sm_11', 'sm_12', 'sm_13', 'sm_14', 'sm_15', 'sm_17', 'sm_20', 'sm_21']\n",
    "df_train = df_train[new_col_list]\n",
    "df_train['cycle'] = df_train['time']\n",
    "df_test = df_test[new_col_list]\n",
    "df_test['cycle'] = df_test['time']\n",
    "df_train.head()"
   ]
  },
  {
   "cell_type": "code",
   "execution_count": 72,
   "metadata": {
    "colab": {
     "base_uri": "https://localhost:8080/",
     "height": 214
    },
    "colab_type": "code",
    "id": "n8Zxi7YYHqzE",
    "outputId": "0b9843a0-1aab-4b26-e8db-bd041af20610"
   },
   "outputs": [
    {
     "data": {
      "text/html": [
       "<div>\n",
       "<style scoped>\n",
       "    .dataframe tbody tr th:only-of-type {\n",
       "        vertical-align: middle;\n",
       "    }\n",
       "\n",
       "    .dataframe tbody tr th {\n",
       "        vertical-align: top;\n",
       "    }\n",
       "\n",
       "    .dataframe thead th {\n",
       "        text-align: right;\n",
       "    }\n",
       "</style>\n",
       "<table border=\"1\" class=\"dataframe\">\n",
       "  <thead>\n",
       "    <tr style=\"text-align: right;\">\n",
       "      <th></th>\n",
       "      <th>unit</th>\n",
       "      <th>time</th>\n",
       "      <th>os_1</th>\n",
       "      <th>os_2</th>\n",
       "      <th>sm_2</th>\n",
       "      <th>sm_3</th>\n",
       "      <th>sm_4</th>\n",
       "      <th>sm_6</th>\n",
       "      <th>sm_7</th>\n",
       "      <th>sm_8</th>\n",
       "      <th>sm_9</th>\n",
       "      <th>sm_11</th>\n",
       "      <th>sm_12</th>\n",
       "      <th>sm_13</th>\n",
       "      <th>sm_14</th>\n",
       "      <th>sm_15</th>\n",
       "      <th>sm_17</th>\n",
       "      <th>sm_20</th>\n",
       "      <th>sm_21</th>\n",
       "      <th>cycle</th>\n",
       "    </tr>\n",
       "  </thead>\n",
       "  <tbody>\n",
       "    <tr>\n",
       "      <th>0</th>\n",
       "      <td>1</td>\n",
       "      <td>1</td>\n",
       "      <td>0.459770</td>\n",
       "      <td>0.166667</td>\n",
       "      <td>0.183735</td>\n",
       "      <td>0.406802</td>\n",
       "      <td>0.309757</td>\n",
       "      <td>1.0</td>\n",
       "      <td>0.726248</td>\n",
       "      <td>0.242424</td>\n",
       "      <td>0.109755</td>\n",
       "      <td>0.369048</td>\n",
       "      <td>0.633262</td>\n",
       "      <td>0.205882</td>\n",
       "      <td>0.199608</td>\n",
       "      <td>0.363986</td>\n",
       "      <td>0.333333</td>\n",
       "      <td>0.713178</td>\n",
       "      <td>0.724662</td>\n",
       "      <td>0.00000</td>\n",
       "    </tr>\n",
       "    <tr>\n",
       "      <th>1</th>\n",
       "      <td>1</td>\n",
       "      <td>2</td>\n",
       "      <td>0.609195</td>\n",
       "      <td>0.250000</td>\n",
       "      <td>0.283133</td>\n",
       "      <td>0.453019</td>\n",
       "      <td>0.352633</td>\n",
       "      <td>1.0</td>\n",
       "      <td>0.628019</td>\n",
       "      <td>0.212121</td>\n",
       "      <td>0.100242</td>\n",
       "      <td>0.380952</td>\n",
       "      <td>0.765458</td>\n",
       "      <td>0.279412</td>\n",
       "      <td>0.162813</td>\n",
       "      <td>0.411312</td>\n",
       "      <td>0.333333</td>\n",
       "      <td>0.666667</td>\n",
       "      <td>0.731014</td>\n",
       "      <td>0.00277</td>\n",
       "    </tr>\n",
       "    <tr>\n",
       "      <th>2</th>\n",
       "      <td>1</td>\n",
       "      <td>3</td>\n",
       "      <td>0.252874</td>\n",
       "      <td>0.750000</td>\n",
       "      <td>0.343373</td>\n",
       "      <td>0.369523</td>\n",
       "      <td>0.370527</td>\n",
       "      <td>1.0</td>\n",
       "      <td>0.710145</td>\n",
       "      <td>0.272727</td>\n",
       "      <td>0.140043</td>\n",
       "      <td>0.250000</td>\n",
       "      <td>0.795309</td>\n",
       "      <td>0.220588</td>\n",
       "      <td>0.171793</td>\n",
       "      <td>0.357445</td>\n",
       "      <td>0.166667</td>\n",
       "      <td>0.627907</td>\n",
       "      <td>0.621375</td>\n",
       "      <td>0.00554</td>\n",
       "    </tr>\n",
       "    <tr>\n",
       "      <th>3</th>\n",
       "      <td>1</td>\n",
       "      <td>4</td>\n",
       "      <td>0.540230</td>\n",
       "      <td>0.500000</td>\n",
       "      <td>0.343373</td>\n",
       "      <td>0.256159</td>\n",
       "      <td>0.331195</td>\n",
       "      <td>1.0</td>\n",
       "      <td>0.740741</td>\n",
       "      <td>0.318182</td>\n",
       "      <td>0.124518</td>\n",
       "      <td>0.166667</td>\n",
       "      <td>0.889126</td>\n",
       "      <td>0.294118</td>\n",
       "      <td>0.174889</td>\n",
       "      <td>0.166603</td>\n",
       "      <td>0.333333</td>\n",
       "      <td>0.573643</td>\n",
       "      <td>0.662386</td>\n",
       "      <td>0.00831</td>\n",
       "    </tr>\n",
       "    <tr>\n",
       "      <th>4</th>\n",
       "      <td>1</td>\n",
       "      <td>5</td>\n",
       "      <td>0.390805</td>\n",
       "      <td>0.333333</td>\n",
       "      <td>0.349398</td>\n",
       "      <td>0.257467</td>\n",
       "      <td>0.404625</td>\n",
       "      <td>1.0</td>\n",
       "      <td>0.668277</td>\n",
       "      <td>0.242424</td>\n",
       "      <td>0.149960</td>\n",
       "      <td>0.255952</td>\n",
       "      <td>0.746269</td>\n",
       "      <td>0.235294</td>\n",
       "      <td>0.174734</td>\n",
       "      <td>0.402078</td>\n",
       "      <td>0.416667</td>\n",
       "      <td>0.589147</td>\n",
       "      <td>0.704502</td>\n",
       "      <td>0.01108</td>\n",
       "    </tr>\n",
       "  </tbody>\n",
       "</table>\n",
       "</div>"
      ],
      "text/plain": [
       "   unit  time      os_1      os_2  ...     sm_17     sm_20     sm_21    cycle\n",
       "0     1     1  0.459770  0.166667  ...  0.333333  0.713178  0.724662  0.00000\n",
       "1     1     2  0.609195  0.250000  ...  0.333333  0.666667  0.731014  0.00277\n",
       "2     1     3  0.252874  0.750000  ...  0.166667  0.627907  0.621375  0.00554\n",
       "3     1     4  0.540230  0.500000  ...  0.333333  0.573643  0.662386  0.00831\n",
       "4     1     5  0.390805  0.333333  ...  0.416667  0.589147  0.704502  0.01108\n",
       "\n",
       "[5 rows x 20 columns]"
      ]
     },
     "execution_count": 72,
     "metadata": {
      "tags": []
     },
     "output_type": "execute_result"
    }
   ],
   "source": [
    "# Scaling the values\n",
    "\n",
    "scale_col_list = new_col_list[2:] + ['cycle']\n",
    "df_train[scale_col_list] = minmax_scale(df_train[scale_col_list])\n",
    "df_test[scale_col_list] = minmax_scale(df_test[scale_col_list])\n",
    "\n",
    "df_train.head()"
   ]
  },
  {
   "cell_type": "markdown",
   "metadata": {
    "colab_type": "text",
    "id": "zy52PxqWB6kw"
   },
   "source": [
    "# **Approach: Using GRU network**"
   ]
  },
  {
   "cell_type": "markdown",
   "metadata": {
    "colab_type": "text",
    "id": "d-dR0ONVCnw7"
   },
   "source": [
    "First the input sequences that are to be fed to the model, shall be of same size and contains 17 features of 'os's and 'sm's data. Inorder to find the seq lenght I'm assuming the size of the 5 as per the problem statement."
   ]
  },
  {
   "cell_type": "code",
   "execution_count": 73,
   "metadata": {
    "colab": {
     "base_uri": "https://localhost:8080/",
     "height": 35
    },
    "colab_type": "code",
    "id": "B2mvGx0IFhEs",
    "outputId": "35b7b4ca-2d04-4e9f-c7d9-00018ed63ad1"
   },
   "outputs": [
    {
     "name": "stdout",
     "output_type": "stream",
     "text": [
      "The mimium length of the sequence in test dataset is 5\n"
     ]
    }
   ],
   "source": [
    "# Selected 5 as lenght of the sequence\n",
    "\n",
    "seq_selected = 5\n",
    "print(\"The mimium length of the sequence in test dataset is\", seq_selected)"
   ]
  },
  {
   "cell_type": "markdown",
   "metadata": {
    "colab_type": "text",
    "id": "fmtYZoT3GBWN"
   },
   "source": [
    "## Input train sequences:\n",
    "\n",
    "The train sequences for input are prepared by using the seq_selected length. For every unit sequences of length seq_selected are selected from the start of the cycle and are stacked in the train dataset. Each sequence is in the dimension of [1 x seq_selected x 18]. This is done for every unit until the max cycle - seq_selected cycle."
   ]
  },
  {
   "cell_type": "code",
   "execution_count": 74,
   "metadata": {
    "colab": {
     "base_uri": "https://localhost:8080/",
     "height": 35
    },
    "colab_type": "code",
    "id": "Sslaif6RwuWq",
    "outputId": "17f5b7ea-30b5-4c31-dce3-46713c5b84a2"
   },
   "outputs": [
    {
     "name": "stdout",
     "output_type": "stream",
     "text": [
      "The shape of input data for training model, X_train is torch.Size([20131, 5, 18])\n"
     ]
    }
   ],
   "source": [
    "# Preparation of inputs for training\n",
    "\n",
    "max_list = list(df_train.groupby('unit').max()['time'])     # creating a list of max cycles in the training dataset\n",
    "\n",
    "device = torch.device('cuda' if torch.cuda.is_available() else 'cpu')     # for converting the GPU supported tensors in case of using GPU\n",
    "\n",
    "i = 0\n",
    "X_train = Variable(torch.Tensor([]).float()).to(device)\n",
    "for item in max_list:\n",
    "  temp_list = Variable(torch.Tensor([]).float()).to(device)\n",
    "  for j in range(item - seq_selected):\n",
    "      zero_list = Variable(torch.Tensor(df_train.values[i+j:i+j+seq_selected, 2:]).float()).to(device)\n",
    "      temp_list = torch.cat((temp_list, zero_list.view(1, seq_selected, 18)), dim=0)\n",
    "  i += item\n",
    "  X_train = torch.cat((X_train, temp_list), dim=0)\n",
    "\n",
    "print(\"The shape of input data for training model, X_train is\", X_train.shape)"
   ]
  },
  {
   "cell_type": "code",
   "execution_count": 75,
   "metadata": {
    "colab": {
     "base_uri": "https://localhost:8080/",
     "height": 35
    },
    "colab_type": "code",
    "id": "RvpUDOCEtz1t",
    "outputId": "088cf77b-0e1f-46c1-e8e8-13b0d560e03a"
   },
   "outputs": [
    {
     "name": "stdout",
     "output_type": "stream",
     "text": [
      "The shape of labels data for training model, y_train is torch.Size([20131, 1])\n"
     ]
    }
   ],
   "source": [
    "# Preparation of labels for training\n",
    "\n",
    "y_train = []\n",
    "for item in max_list:\n",
    "  y_train.extend(list(range(item-seq_selected))[::-1])\n",
    "y_train = Variable(torch.Tensor(y_train).float()).to(device)\n",
    "y_train = y_train.view(X_train.shape[0], 1)\n",
    "\n",
    "print(\"The shape of labels data for training model, y_train is\", y_train.shape)"
   ]
  },
  {
   "cell_type": "code",
   "execution_count": 0,
   "metadata": {
    "colab": {},
    "colab_type": "code",
    "id": "4kw6_ULMaGad"
   },
   "outputs": [],
   "source": [
    "# Model parameters\n",
    "\n",
    "batch_size = 100\n",
    "# learning_rate = 0.00001\n",
    "num_epochs = 100\n",
    "hidden_dim = 100\n",
    "hidden_dim2 = 50\n",
    "hidden_dim3 = 25"
   ]
  },
  {
   "cell_type": "markdown",
   "metadata": {
    "colab_type": "text",
    "id": "yvL2ky69w86y"
   },
   "source": [
    "## **Model**"
   ]
  },
  {
   "cell_type": "code",
   "execution_count": 77,
   "metadata": {
    "colab": {
     "base_uri": "https://localhost:8080/",
     "height": 72
    },
    "colab_type": "code",
    "id": "yJ88BTFxaJGX",
    "outputId": "8f322d87-7706-4a78-f4ac-92323d32da0e"
   },
   "outputs": [
    {
     "name": "stderr",
     "output_type": "stream",
     "text": [
      "/usr/local/lib/python3.6/dist-packages/torch/nn/modules/rnn.py:50: UserWarning: dropout option adds dropout after all but last recurrent layer, so non-zero dropout expects num_layers greater than 1, but got dropout=0.2 and num_layers=1\n",
      "  \"num_layers={}\".format(dropout, num_layers))\n"
     ]
    }
   ],
   "source": [
    "class lstm(nn.Module):\n",
    "    def __init__(self, hidden_dim, hidden_dim2, hidden_dim3):\n",
    "        super(lstm, self).__init__()\n",
    "        self.hidden_dim = hidden_dim\n",
    "        self.hidden_dim2 = hidden_dim2\n",
    "        self.hidden_dim3 = hidden_dim3\n",
    "        self.gru = nn.GRU(18, hidden_dim, dropout = 0.2, batch_first = True)\n",
    "        self.gru2 = nn.GRU(hidden_dim, hidden_dim2, dropout = 0.2, batch_first=True)\n",
    "        self.gru3 = nn.GRU(hidden_dim2, hidden_dim3, dropout = 0.2, batch_first=True)\n",
    "        self.linear = nn.Linear(hidden_dim3, 10)\n",
    "        self.linear2 = nn.Linear(10, 1)\n",
    "\n",
    "    def forward(self, x):\n",
    "        out, _ = self.gru(x)\n",
    "        out, _ = self.gru2(out)\n",
    "        out, _ = self.gru3(out)\n",
    "        out = out[:, -1, :]\n",
    "        out = F.relu(self.linear(out))\n",
    "        out = self.linear2(out)\n",
    "        return out\n",
    "\n",
    "model = lstm(hidden_dim= hidden_dim, hidden_dim2=hidden_dim2, hidden_dim3=hidden_dim3).to(device)\n",
    "criterion = nn.MSELoss()\n",
    "# criterion = nn.L1Loss()\n",
    "# optimizer = optim.Adam(model.parameters())\n",
    "optimizer = torch.optim.RMSprop(model.parameters())"
   ]
  },
  {
   "cell_type": "markdown",
   "metadata": {
    "colab_type": "text",
    "id": "HxLevNVqw3MI"
   },
   "source": [
    "## **Training**"
   ]
  },
  {
   "cell_type": "code",
   "execution_count": 78,
   "metadata": {
    "colab": {
     "base_uri": "https://localhost:8080/",
     "height": 473
    },
    "colab_type": "code",
    "id": "nlPs-W3rbQhs",
    "outputId": "babd359a-aa45-413c-9808-bf2f6797f814"
   },
   "outputs": [
    {
     "name": "stdout",
     "output_type": "stream",
     "text": [
      "epoch [1/100], loss:8248.1582\n",
      "epoch [11/100], loss:1569.0554\n",
      "epoch [21/100], loss:1382.6199\n",
      "epoch [31/100], loss:1546.6772\n",
      "epoch [41/100], loss:569.4540\n",
      "epoch [51/100], loss:596.9194\n",
      "epoch [61/100], loss:1535.7830\n",
      "epoch [71/100], loss:792.0007\n",
      "epoch [81/100], loss:1634.3206\n",
      "epoch [91/100], loss:812.2432\n"
     ]
    },
    {
     "data": {
      "image/png": "[encoded data removed]",
      "text/plain": [
       "<Figure size 432x288 with 1 Axes>"
      ]
     },
     "metadata": {
      "tags": []
     },
     "output_type": "display_data"
    }
   ],
   "source": [
    "# training the model\n",
    "\n",
    "train_loss = []\n",
    "val_loss = []\n",
    "epochs = []\n",
    "for epoch in range(num_epochs):\n",
    "  permutation = torch.randperm(X_train.size()[0])\n",
    "  val_permutation = permutation[:X_train.size()[0]//3]\n",
    "  train_permutation = permutation[X_train.size()[0]//3:]\n",
    "  \n",
    "  for i in range(0, len(train_permutation), batch_size):\n",
    "\n",
    "    # Training model\n",
    "    optimizer.zero_grad()\n",
    "    indices = train_permutation[i:i+batch_size]\n",
    "    batch_x = X_train[indices]\n",
    "    out = model(batch_x)\n",
    "    loss = criterion(out, y_train[indices])\n",
    "\n",
    "    # Validation\n",
    "    val_predict = model(X_train[val_permutation])\n",
    "    val_loss_cal = criterion(val_predict, y_train[val_permutation])\n",
    "\n",
    "    loss.backward()\n",
    "    optimizer.step()\n",
    "\n",
    "  if epoch % 10 == 0:\n",
    "    train_loss.append(loss.item())\n",
    "    val_loss.append(val_loss_cal.item())\n",
    "    epochs.append(epoch)\n",
    "    print('epoch [{}/{}], loss:{:.4f}'.format(epoch + 1, num_epochs, loss.item()))\n",
    "\n",
    "plt.plot(epochs, train_loss, label = \"training_loss\")\n",
    "plt.plot(epochs, val_loss, label = \"validation_loss\")\n",
    "plt.title(\"Training Curve (batch_size={})\".format(batch_size))\n",
    "plt.xlabel(\"Epochs\")\n",
    "plt.ylabel(\"Loss\")\n",
    "plt.legend()\n",
    "plt.show()"
   ]
  },
  {
   "cell_type": "code",
   "execution_count": 0,
   "metadata": {
    "colab": {},
    "colab_type": "code",
    "id": "T2vYNZbmk2El"
   },
   "outputs": [],
   "source": [
    "torch.save(model.state_dict(), 'model_weights.pth')"
   ]
  },
  {
   "cell_type": "markdown",
   "metadata": {
    "colab_type": "text",
    "id": "575cbqKLxCLD"
   },
   "source": [
    "## **Prediction**"
   ]
  },
  {
   "cell_type": "code",
   "execution_count": 80,
   "metadata": {
    "colab": {
     "base_uri": "https://localhost:8080/",
     "height": 35
    },
    "colab_type": "code",
    "id": "KXebP-SUoDv4",
    "outputId": "e7336820-cd89-47bd-f11c-d3b9736bc56e"
   },
   "outputs": [
    {
     "name": "stdout",
     "output_type": "stream",
     "text": [
      "torch.Size([100, 5, 18])\n"
     ]
    }
   ],
   "source": [
    "# Preparing Test data\n",
    "\n",
    "max_list_test = list(df_test.groupby('unit').max()['time'])\n",
    "\n",
    "i = 0\n",
    "X_test = Variable(torch.Tensor([]).float()).to(device)\n",
    "for item in max_list_test:\n",
    "  temp_list = Variable(torch.Tensor([]).float()).to(device)\n",
    "  zero_list = Variable(torch.Tensor(df_test.values[i + item - seq_selected : i + item, 2:]).float()).to(device)\n",
    "  temp_list = torch.cat((temp_list, zero_list.view(1, seq_selected, 18)), dim=0)\n",
    "  i += item\n",
    "  X_test = torch.cat((X_test, temp_list), dim=0)\n",
    "\n",
    "print(X_test.shape)"
   ]
  },
  {
   "cell_type": "code",
   "execution_count": 0,
   "metadata": {
    "colab": {},
    "colab_type": "code",
    "id": "X45wCl_MdkjO"
   },
   "outputs": [],
   "source": [
    "# Preparing test labels\n",
    "\n",
    "y_test = df_RUL.values\n",
    "y_test = Variable(torch.Tensor(y_test).float()).to(device)"
   ]
  },
  {
   "cell_type": "code",
   "execution_count": 82,
   "metadata": {
    "colab": {
     "base_uri": "https://localhost:8080/",
     "height": 35
    },
    "colab_type": "code",
    "id": "Bkik-HvfePYG",
    "outputId": "ce880b9d-fe4e-455a-90ee-68df32e1f097"
   },
   "outputs": [
    {
     "name": "stdout",
     "output_type": "stream",
     "text": [
      "The loss on test data is 1579.806884765625\n"
     ]
    }
   ],
   "source": [
    "# Predicting loss on the test dataset\n",
    "\n",
    "y_pred = model(X_test)\n",
    "test_loss = criterion(y_pred, y_test)\n",
    "\n",
    "print(\"The loss on test data is\", test_loss.item())"
   ]
  },
  {
   "cell_type": "code",
   "execution_count": 83,
   "metadata": {
    "colab": {
     "base_uri": "https://localhost:8080/",
     "height": 641
    },
    "colab_type": "code",
    "id": "WyaCT2SCtylV",
    "outputId": "b0083e7c-ad06-47a4-944c-836c93264549"
   },
   "outputs": [
    {
     "data": {
      "image/png": "[encoded data removed]",
      "text/plain": [
       "<Figure size 1080x720 with 1 Axes>"
      ]
     },
     "metadata": {
      "tags": []
     },
     "output_type": "display_data"
    }
   ],
   "source": [
    "# Plotting predicted vs actual RULs\n",
    "\n",
    "plt.figure(figsize=(15,10))\n",
    "plt.plot(list(range(1,101)), y_pred.view(100).tolist(), label='RUL_predicted')\n",
    "plt.plot(list(range(1,101)), y_test.view(100).tolist(), label=\"RUL_actual\")\n",
    "plt.title(\"Model results\")\n",
    "plt.xlabel(\"Unit\")\n",
    "plt.ylabel(\"Cycles\")\n",
    "plt.legend()\n",
    "plt.show()"
   ]
  },
  {
   "cell_type": "markdown",
   "metadata": {
    "colab_type": "text",
    "id": "4GcELVRqwd_u"
   },
   "source": [
    "# **2.4 Conclusion**\n",
    "\n",
    "Following are a few points that are concluded. \n",
    "1. Further fine-tuning of the hyperparameters and exploring various architectures are necessary for enhancing the performance of the model on test set. \n",
    "2. Dealing with the noise, taking measures to reduce may also help the models performance.\n"
   ]
  },
  {
   "cell_type": "code",
   "execution_count": 0,
   "metadata": {
    "colab": {},
    "colab_type": "code",
    "id": "En60DWhJuZmH"
   },
   "outputs": [],
   "source": [
    "pip freeze > requirements.txt"
   ]
  },
  {
   "cell_type": "code",
   "execution_count": 0,
   "metadata": {
    "colab": {},
    "colab_type": "code",
    "id": "-0_1S_70xz1y"
   },
   "outputs": [],
   "source": []
  }
 ],
 "metadata": {
  "accelerator": "GPU",
  "colab": {
   "collapsed_sections": [],
   "name": "01_sivaji_bko_model2.ipynb",
   "provenance": []
  },
  "kernelspec": {
   "display_name": "Python 3",
   "language": "python",
   "name": "python3"
  },
  "language_info": {
   "codemirror_mode": {
    "name": "ipython",
    "version": 3
   },
   "file_extension": ".py",
   "mimetype": "text/x-python",
   "name": "python",
   "nbconvert_exporter": "python",
   "pygments_lexer": "ipython3",
   "version": "3.7.0"
  }
 },
 "nbformat": 4,
 "nbformat_minor": 1
}
